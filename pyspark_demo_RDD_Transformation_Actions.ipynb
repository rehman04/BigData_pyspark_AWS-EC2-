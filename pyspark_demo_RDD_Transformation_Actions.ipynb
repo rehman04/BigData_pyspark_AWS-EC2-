{
  "nbformat": 4,
  "nbformat_minor": 0,
  "metadata": {
    "colab": {
      "name": "pyspark_demo_RDD_Transformation_Actions",
      "version": "0.3.2",
      "provenance": [],
      "collapsed_sections": []
    },
    "kernelspec": {
      "display_name": "Python 3",
      "name": "python3"
    }
  },
  "cells": [
    {
      "cell_type": "code",
      "metadata": {
        "id": "8C2-zXUPOMlo",
        "colab_type": "code",
        "colab": {}
      },
      "source": [
        "pip install pyspark"
      ],
      "execution_count": 0,
      "outputs": []
    },
    {
      "cell_type": "code",
      "metadata": {
        "id": "TrN_1HAhObkx",
        "colab_type": "code",
        "colab": {}
      },
      "source": [
        "from pyspark import SparkContext"
      ],
      "execution_count": 0,
      "outputs": []
    },
    {
      "cell_type": "code",
      "metadata": {
        "id": "OkI_ZJcfQk0H",
        "colab_type": "code",
        "colab": {}
      },
      "source": [
        "sc=SparkContext()"
      ],
      "execution_count": 0,
      "outputs": []
    },
    {
      "cell_type": "code",
      "metadata": {
        "id": "eAHaz2HgXUsU",
        "colab_type": "code",
        "colab": {
          "base_uri": "https://localhost:8080/",
          "height": 51
        },
        "outputId": "f20f12a5-aa91-483e-9506-57443ba01ed1"
      },
      "source": [
        "!apt-get install openjdk-8-jdk-headless -qq > /dev/null\n",
        "!wget -q http://mirror.its.dal.ca/apache/spark/spark-2.4.0/spark-2.4.0-bin-hadoop2.7.tgz\n",
        "!tar xvf spark-2.4.0-bin-hadoop2.7.tgz\n",
        "!pip install -q findspark"
      ],
      "execution_count": 27,
      "outputs": [
        {
          "output_type": "stream",
          "text": [
            "tar: spark-2.4.0-bin-hadoop2.7.tgz: Cannot open: No such file or directory\n",
            "tar: Error is not recoverable: exiting now\n"
          ],
          "name": "stdout"
        }
      ]
    },
    {
      "cell_type": "code",
      "metadata": {
        "id": "yCEgWqd-c84r",
        "colab_type": "code",
        "colab": {}
      },
      "source": [
        "from pyspark import SparkContext\n",
        "sc=SparkContext()\n"
      ],
      "execution_count": 0,
      "outputs": []
    },
    {
      "cell_type": "code",
      "metadata": {
        "id": "eq7bF3GQcxU0",
        "colab_type": "code",
        "colab": {}
      },
      "source": [
        ""
      ],
      "execution_count": 0,
      "outputs": []
    },
    {
      "cell_type": "code",
      "metadata": {
        "id": "LMSRy-wdXvs6",
        "colab_type": "code",
        "colab": {}
      },
      "source": [
        "import os"
      ],
      "execution_count": 0,
      "outputs": []
    },
    {
      "cell_type": "code",
      "metadata": {
        "id": "Zo4XRZuSXwy1",
        "colab_type": "code",
        "colab": {}
      },
      "source": [
        "os.environ[\"JAVA_HOME\"] = \"/usr/lib/jvm/java-8-openjdk-amd64\"\n",
        "os.environ[\"SPARK_HOME\"] = \"/content/spark-2.4.0-bin-hadoop2.7\""
      ],
      "execution_count": 0,
      "outputs": []
    },
    {
      "cell_type": "code",
      "metadata": {
        "id": "Mmn-hsiKYGwB",
        "colab_type": "code",
        "colab": {
          "base_uri": "https://localhost:8080/",
          "height": 119
        },
        "outputId": "85b20f97-81e8-4104-f892-7b5c7adde7e4"
      },
      "source": [
        "os.listdir('./sample_data')"
      ],
      "execution_count": 30,
      "outputs": [
        {
          "output_type": "execute_result",
          "data": {
            "text/plain": [
              "['anscombe.json',\n",
              " 'README.md',\n",
              " 'mnist_train_small.csv',\n",
              " 'california_housing_test.csv',\n",
              " 'mnist_test.csv',\n",
              " 'california_housing_train.csv']"
            ]
          },
          "metadata": {
            "tags": []
          },
          "execution_count": 30
        }
      ]
    },
    {
      "cell_type": "code",
      "metadata": {
        "id": "B2SrW0e0YMMa",
        "colab_type": "code",
        "colab": {}
      },
      "source": [
        "file_loc = './sample_data/california_housing_train.csv'"
      ],
      "execution_count": 0,
      "outputs": []
    },
    {
      "cell_type": "code",
      "metadata": {
        "id": "Qs0c-goFYSOP",
        "colab_type": "code",
        "colab": {}
      },
      "source": [
        "import findspark\n",
        "findspark.init()"
      ],
      "execution_count": 0,
      "outputs": []
    },
    {
      "cell_type": "code",
      "metadata": {
        "id": "JDXswGsMb0_N",
        "colab_type": "code",
        "colab": {}
      },
      "source": [
        "from pyspark.sql import SparkSession\n",
        "spark = SparkSession.builder.master(\"local[*]\").getOrCreate()"
      ],
      "execution_count": 0,
      "outputs": []
    },
    {
      "cell_type": "code",
      "metadata": {
        "id": "6tGkGV3gcBRs",
        "colab_type": "code",
        "colab": {}
      },
      "source": [
        "df = spark.read.csv(file_loc, inferSchema=True, header =True)"
      ],
      "execution_count": 0,
      "outputs": []
    },
    {
      "cell_type": "code",
      "metadata": {
        "id": "mNwypCe1cQaC",
        "colab_type": "code",
        "colab": {
          "base_uri": "https://localhost:8080/",
          "height": 204
        },
        "outputId": "aa986334-60aa-469f-cb32-6e2f6419687f"
      },
      "source": [
        "df.printSchema()"
      ],
      "execution_count": 40,
      "outputs": [
        {
          "output_type": "stream",
          "text": [
            "root\n",
            " |-- longitude: double (nullable = true)\n",
            " |-- latitude: double (nullable = true)\n",
            " |-- housing_median_age: double (nullable = true)\n",
            " |-- total_rooms: double (nullable = true)\n",
            " |-- total_bedrooms: double (nullable = true)\n",
            " |-- population: double (nullable = true)\n",
            " |-- households: double (nullable = true)\n",
            " |-- median_income: double (nullable = true)\n",
            " |-- median_house_value: double (nullable = true)\n",
            "\n"
          ],
          "name": "stdout"
        }
      ]
    },
    {
      "cell_type": "code",
      "metadata": {
        "id": "iKOk2QzDcWk1",
        "colab_type": "code",
        "colab": {
          "base_uri": "https://localhost:8080/",
          "height": 459
        },
        "outputId": "65ac0d55-842f-4588-a794-d24adaf2db8d"
      },
      "source": [
        "df.show()\n"
      ],
      "execution_count": 45,
      "outputs": [
        {
          "output_type": "stream",
          "text": [
            "+---------+--------+------------------+-----------+--------------+----------+----------+-------------+------------------+\n",
            "|longitude|latitude|housing_median_age|total_rooms|total_bedrooms|population|households|median_income|median_house_value|\n",
            "+---------+--------+------------------+-----------+--------------+----------+----------+-------------+------------------+\n",
            "|  -114.31|   34.19|              15.0|     5612.0|        1283.0|    1015.0|     472.0|       1.4936|           66900.0|\n",
            "|  -114.47|    34.4|              19.0|     7650.0|        1901.0|    1129.0|     463.0|         1.82|           80100.0|\n",
            "|  -114.56|   33.69|              17.0|      720.0|         174.0|     333.0|     117.0|       1.6509|           85700.0|\n",
            "|  -114.57|   33.64|              14.0|     1501.0|         337.0|     515.0|     226.0|       3.1917|           73400.0|\n",
            "|  -114.57|   33.57|              20.0|     1454.0|         326.0|     624.0|     262.0|        1.925|           65500.0|\n",
            "|  -114.58|   33.63|              29.0|     1387.0|         236.0|     671.0|     239.0|       3.3438|           74000.0|\n",
            "|  -114.58|   33.61|              25.0|     2907.0|         680.0|    1841.0|     633.0|       2.6768|           82400.0|\n",
            "|  -114.59|   34.83|              41.0|      812.0|         168.0|     375.0|     158.0|       1.7083|           48500.0|\n",
            "|  -114.59|   33.61|              34.0|     4789.0|        1175.0|    3134.0|    1056.0|       2.1782|           58400.0|\n",
            "|   -114.6|   34.83|              46.0|     1497.0|         309.0|     787.0|     271.0|       2.1908|           48100.0|\n",
            "|   -114.6|   33.62|              16.0|     3741.0|         801.0|    2434.0|     824.0|       2.6797|           86500.0|\n",
            "|   -114.6|    33.6|              21.0|     1988.0|         483.0|    1182.0|     437.0|        1.625|           62000.0|\n",
            "|  -114.61|   34.84|              48.0|     1291.0|         248.0|     580.0|     211.0|       2.1571|           48600.0|\n",
            "|  -114.61|   34.83|              31.0|     2478.0|         464.0|    1346.0|     479.0|        3.212|           70400.0|\n",
            "|  -114.63|   32.76|              15.0|     1448.0|         378.0|     949.0|     300.0|       0.8585|           45000.0|\n",
            "|  -114.65|   34.89|              17.0|     2556.0|         587.0|    1005.0|     401.0|       1.6991|           69100.0|\n",
            "|  -114.65|    33.6|              28.0|     1678.0|         322.0|     666.0|     256.0|       2.9653|           94900.0|\n",
            "|  -114.65|   32.79|              21.0|       44.0|          33.0|      64.0|      27.0|       0.8571|           25000.0|\n",
            "|  -114.66|   32.74|              17.0|     1388.0|         386.0|     775.0|     320.0|       1.2049|           44000.0|\n",
            "|  -114.67|   33.92|              17.0|       97.0|          24.0|      29.0|      15.0|       1.2656|           27500.0|\n",
            "+---------+--------+------------------+-----------+--------------+----------+----------+-------------+------------------+\n",
            "only showing top 20 rows\n",
            "\n"
          ],
          "name": "stdout"
        }
      ]
    },
    {
      "cell_type": "code",
      "metadata": {
        "id": "Za_AG7zrQqBF",
        "colab_type": "code",
        "colab": {}
      },
      "source": [
        "%%writefile ex.txt\n",
        "first line\n",
        "second line \n",
        "third line\n",
        "fourth line"
      ],
      "execution_count": 0,
      "outputs": []
    },
    {
      "cell_type": "code",
      "metadata": {
        "id": "y5TEnnlWUMnw",
        "colab_type": "code",
        "colab": {}
      },
      "source": [
        "pip install py4j"
      ],
      "execution_count": 0,
      "outputs": []
    },
    {
      "cell_type": "code",
      "metadata": {
        "id": "8qsgGV4UQ2Og",
        "colab_type": "code",
        "colab": {}
      },
      "source": [
        "#RDD Object \n",
        "textFilek=sc.textFile(\"ex.txt\")"
      ],
      "execution_count": 0,
      "outputs": []
    },
    {
      "cell_type": "code",
      "metadata": {
        "id": "abaxHts9T1cQ",
        "colab_type": "code",
        "colab": {}
      },
      "source": [
        "textFilek.count()"
      ],
      "execution_count": 0,
      "outputs": []
    },
    {
      "cell_type": "code",
      "metadata": {
        "id": "ehggsLhPhyuw",
        "colab_type": "code",
        "colab": {}
      },
      "source": [
        "textFilek.first()"
      ],
      "execution_count": 0,
      "outputs": []
    },
    {
      "cell_type": "code",
      "metadata": {
        "id": "xDmiO4Ao2YId",
        "colab_type": "code",
        "colab": {}
      },
      "source": [
        "#sample transformation using filter \n",
        "secfind=textFilek.filter(lambda line: 'second' in line)"
      ],
      "execution_count": 0,
      "outputs": []
    },
    {
      "cell_type": "code",
      "metadata": {
        "id": "imPZOSVm28pe",
        "colab_type": "code",
        "colab": {}
      },
      "source": [
        "secfind.collect()#performing action on transformation"
      ],
      "execution_count": 0,
      "outputs": []
    },
    {
      "cell_type": "code",
      "metadata": {
        "id": "13HCVsMh3Mu7",
        "colab_type": "code",
        "colab": {}
      },
      "source": [
        "secfind.count()"
      ],
      "execution_count": 0,
      "outputs": []
    },
    {
      "cell_type": "code",
      "metadata": {
        "id": "rsXklkqy3SQd",
        "colab_type": "code",
        "colab": {
          "base_uri": "https://localhost:8080/",
          "height": 34
        },
        "outputId": "503ae771-57a7-4b01-b044-8fa1e7065fdd"
      },
      "source": [
        "%%writefile ex2.txt\n",
        "first\n",
        "second\n",
        "third \n",
        "fourth"
      ],
      "execution_count": 48,
      "outputs": [
        {
          "output_type": "stream",
          "text": [
            "Overwriting ex2.txt\n"
          ],
          "name": "stdout"
        }
      ]
    },
    {
      "cell_type": "code",
      "metadata": {
        "id": "MmKejmRsGIqJ",
        "colab_type": "code",
        "colab": {}
      },
      "source": [
        "text_rdd=sc.textFile(\"ex2.txt\")"
      ],
      "execution_count": 0,
      "outputs": []
    },
    {
      "cell_type": "code",
      "metadata": {
        "id": "wHdl76YVGZBC",
        "colab_type": "code",
        "colab": {}
      },
      "source": [
        "words=text_rdd.map(lambda line:line.split())#array of arrays of every line with splitted words\n"
      ],
      "execution_count": 0,
      "outputs": []
    },
    {
      "cell_type": "code",
      "metadata": {
        "id": "2R1jz39SGsms",
        "colab_type": "code",
        "colab": {}
      },
      "source": [
        "words.collect()#complete array of single line of word splitted"
      ],
      "execution_count": 0,
      "outputs": []
    },
    {
      "cell_type": "code",
      "metadata": {
        "id": "hx_Q4sbGJsSh",
        "colab_type": "code",
        "colab": {}
      },
      "source": [
        "text_rdd.flatMap(lambda line:line.split()).collect()#list of words splitted"
      ],
      "execution_count": 0,
      "outputs": []
    },
    {
      "cell_type": "code",
      "metadata": {
        "id": "VSsl2KrqKErP",
        "colab_type": "code",
        "colab": {
          "base_uri": "https://localhost:8080/",
          "height": 34
        },
        "outputId": "bc444ff3-52d3-48e3-efa4-0cfb548d9665"
      },
      "source": [
        "#key value pair RDD\n",
        "%%writefile serv.txt\n",
        "#EventId    Timestamp    Customer   State    ServiceID    Amount\n",
        "201       10/13/2017      100       NY       131          100.00\n",
        "204       10/18/2017      700       TX       129          450.00\n",
        "202       10/15/2017      203       CA       121          200.00\n",
        "206       10/19/2017      202       CA       131          500.00\n",
        "203       10/17/2017      101       NY       173          750.00\n",
        "205       10/19/2017      202       TX       121          200.00"
      ],
      "execution_count": 57,
      "outputs": [
        {
          "output_type": "stream",
          "text": [
            "Writing serv.txt\n"
          ],
          "name": "stdout"
        }
      ]
    },
    {
      "cell_type": "code",
      "metadata": {
        "id": "B95UY9n6MtOs",
        "colab_type": "code",
        "colab": {}
      },
      "source": [
        "serv=sc.textFile('serv.txt')"
      ],
      "execution_count": 0,
      "outputs": []
    },
    {
      "cell_type": "code",
      "metadata": {
        "id": "UiWet6RyMz9G",
        "colab_type": "code",
        "colab": {
          "base_uri": "https://localhost:8080/",
          "height": 51
        },
        "outputId": "f63488d2-e02b-4fa5-e4a7-c7fd0c81f08d"
      },
      "source": [
        "serv.take(2)"
      ],
      "execution_count": 60,
      "outputs": [
        {
          "output_type": "execute_result",
          "data": {
            "text/plain": [
              "['#EventId    Timestamp    Customer   State    ServiceID    Amount',\n",
              " '201       10/13/2017      100       NY       131          100.00']"
            ]
          },
          "metadata": {
            "tags": []
          },
          "execution_count": 60
        }
      ]
    },
    {
      "cell_type": "code",
      "metadata": {
        "id": "3nQ__qzRNCPS",
        "colab_type": "code",
        "colab": {
          "base_uri": "https://localhost:8080/",
          "height": 68
        },
        "outputId": "8695c66c-f897-4597-91ef-5d19a75e36d4"
      },
      "source": [
        "serv.map(lambda line:line.split()).take(3)"
      ],
      "execution_count": 62,
      "outputs": [
        {
          "output_type": "execute_result",
          "data": {
            "text/plain": [
              "[['#EventId', 'Timestamp', 'Customer', 'State', 'ServiceID', 'Amount'],\n",
              " ['201', '10/13/2017', '100', 'NY', '131', '100.00'],\n",
              " ['204', '10/18/2017', '700', 'TX', '129', '450.00']]"
            ]
          },
          "metadata": {
            "tags": []
          },
          "execution_count": 62
        }
      ]
    },
    {
      "cell_type": "code",
      "metadata": {
        "id": "jJsUeJJyNf1i",
        "colab_type": "code",
        "colab": {}
      },
      "source": [
        "clean = serv.map(lambda line:line[1:] if line[0]=='#' else line).collect()"
      ],
      "execution_count": 0,
      "outputs": []
    },
    {
      "cell_type": "code",
      "metadata": {
        "id": "LPIRx9mZNrQq",
        "colab_type": "code",
        "colab": {}
      },
      "source": [
        "clean = clean.map(lambda line:line.split())"
      ],
      "execution_count": 0,
      "outputs": []
    },
    {
      "cell_type": "code",
      "metadata": {
        "id": "Qeeg8AghOENe",
        "colab_type": "code",
        "colab": {}
      },
      "source": [
        "clean.collect()"
      ],
      "execution_count": 0,
      "outputs": []
    },
    {
      "cell_type": "code",
      "metadata": {
        "id": "fuSLA7RtOJE-",
        "colab_type": "code",
        "colab": {}
      },
      "source": [
        "clean.map(lambda lst:(lst[3],lst[-1])).collect()#taking column of state and amount"
      ],
      "execution_count": 0,
      "outputs": []
    },
    {
      "cell_type": "code",
      "metadata": {
        "id": "Kj3q9eRhOvV7",
        "colab_type": "code",
        "colab": {}
      },
      "source": [
        "painrs=clean.map(lambda lst:(lst[3],lst[-1]))"
      ],
      "execution_count": 0,
      "outputs": []
    },
    {
      "cell_type": "code",
      "metadata": {
        "id": "bri4JjikO2S5",
        "colab_type": "code",
        "colab": {}
      },
      "source": [
        "rekey=pairs.reduceByKey(lambda a1,a2:float(a1)+float(a2))"
      ],
      "execution_count": 0,
      "outputs": []
    },
    {
      "cell_type": "code",
      "metadata": {
        "id": "xY-kiZ9BRIqp",
        "colab_type": "code",
        "colab": {}
      },
      "source": [
        "rekey.collect()"
      ],
      "execution_count": 0,
      "outputs": []
    },
    {
      "cell_type": "code",
      "metadata": {
        "id": "RvSrOp96Rwsa",
        "colab_type": "code",
        "colab": {}
      },
      "source": [
        "#grabb state and amount\n",
        "step1=clean.map(lambda lst:(lst[3],lst[-1]))\n",
        "#reduce by key\n",
        "step2=step1.reduceByKey(lambda a1,a2:float(a1)+float(a2))\n",
        "#get rid of state amount title\n",
        "step3=step2.filter(lambda x:not x[0]=='State')\n",
        "#sort results by amount\n",
        "step4=step3.sortBy(lambda stAmt:stAmt[1],ascending=False)\n",
        "#action\n",
        "step5=step4.collect()"
      ],
      "execution_count": 0,
      "outputs": []
    },
    {
      "cell_type": "code",
      "metadata": {
        "id": "Vlvm-trbTG3j",
        "colab_type": "code",
        "colab": {
          "base_uri": "https://localhost:8080/",
          "height": 34
        },
        "outputId": "81b53c1c-e976-4faa-8ccf-d4bd3d0c2857"
      },
      "source": [
        "#tuple unpacking\n",
        "x=['ID','State','Amount']\n",
        "def id_st_Amt(id_St):\n",
        "  #unpack values\n",
        "  (id,St,amt)=id_St\n",
        "  return amt\n",
        "print(id_st_Amt(x)) "
      ],
      "execution_count": 67,
      "outputs": [
        {
          "output_type": "stream",
          "text": [
            "Amount\n"
          ],
          "name": "stdout"
        }
      ]
    }
  ]
}